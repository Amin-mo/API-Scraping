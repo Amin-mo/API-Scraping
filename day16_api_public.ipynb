{
  "cells": [
    {
      "cell_type": "markdown",
      "metadata": {
        "id": "view-in-github",
        "colab_type": "text"
      },
      "source": [
        "<a href=\"https://colab.research.google.com/github/Amin-mo/API-Scraping/blob/main/day16_api_public.ipynb\" target=\"_parent\"><img src=\"https://colab.research.google.com/assets/colab-badge.svg\" alt=\"Open In Colab\"/></a>"
      ]
    },
    {
      "cell_type": "markdown",
      "source": [
        "day16\n",
        "api"
      ],
      "metadata": {
        "id": "vTKxHKkqLF_X"
      }
    },
    {
      "cell_type": "code",
      "source": [
        "#API check\n",
        "#cats:\n",
        "\n",
        "import requests\n",
        "response = requests.get(\"https://catfact.ninja/fact\")\n",
        "\n",
        "if response.status_code == 200:\n",
        "    data = response.json()\n",
        "    print(data[\"fact\"])\n",
        "else:\n",
        "    print(\"Request failed.\")\n"
      ],
      "metadata": {
        "colab": {
          "base_uri": "https://localhost:8080/"
        },
        "id": "DFhHgS7JBhJk",
        "outputId": "15340241-decf-4695-a6c8-4d0cea05f112"
      },
      "execution_count": 2,
      "outputs": [
        {
          "output_type": "stream",
          "name": "stdout",
          "text": [
            "On average, cats spend 2/3 of every day sleeping. That means a nine-year-old cat has been awake for only three years of its life.\n"
          ]
        }
      ]
    },
    {
      "cell_type": "code",
      "source": [
        "facts = []\n",
        "for _ in range(10):\n",
        "    res = requests.get(\"https://catfact.ninja/fact\")\n",
        "    if res.status_code == 200:\n",
        "        facts.append(res.json()[\"fact\"])\n",
        "\n",
        "import pandas as pd\n",
        "df = pd.DataFrame(facts, columns=[\"fact\"])\n",
        "df.to_csv(\"cat_facts.csv\", index=False)\n"
      ],
      "metadata": {
        "id": "WqaCjrrgB78y"
      },
      "execution_count": 3,
      "outputs": []
    },
    {
      "cell_type": "code",
      "source": [
        "print(df.head())"
      ],
      "metadata": {
        "colab": {
          "base_uri": "https://localhost:8080/"
        },
        "id": "ld_O-z6-CuCi",
        "outputId": "820074f6-5123-4e60-804e-b6e12afea38d"
      },
      "execution_count": 4,
      "outputs": [
        {
          "output_type": "stream",
          "name": "stdout",
          "text": [
            "                                                fact\n",
            "0  Blue-eyed, white cats are often prone to deafn...\n",
            "1  Cats should not be fed tuna exclusively, as it...\n",
            "2  In just 7 years, one un-spayed female cat and ...\n",
            "3  Cats should not be fed tuna exclusively, as it...\n",
            "4  The richest cat is Blackie who was left £15 mi...\n"
          ]
        }
      ]
    },
    {
      "cell_type": "code",
      "source": [
        "#countries:\n",
        "\n",
        "import requests\n",
        "import pandas as pd\n",
        "\n",
        "res = requests.get(\"https://restcountries.com/v3.1/all\")\n",
        "\n",
        "if res.status_code == 200:\n",
        "    data = res.json()\n",
        "\n",
        "    country_list = []\n",
        "    for c in data:\n",
        "        if isinstance(c, dict):  # make sure it's a dict\n",
        "            name = c.get(\"name\", {}).get(\"common\", \"\")\n",
        "            region = c.get(\"region\", \"\")\n",
        "            pop = c.get(\"population\", 0)\n",
        "            area = c.get(\"area\", 0)\n",
        "            country_list.append([name, region, pop, area])\n",
        "        else:\n",
        "            print(f\"Unexpected item in data: {c}\")\n",
        "\n",
        "    df1 = pd.DataFrame(country_list, columns=[\"name\", \"region\", \"population\", \"area\"])\n",
        "    df1.to_csv(\"countries_data.csv\", index=False)\n"
      ],
      "metadata": {
        "id": "J_SI80F9C1Y5"
      },
      "execution_count": 13,
      "outputs": []
    },
    {
      "cell_type": "code",
      "source": [],
      "metadata": {
        "colab": {
          "base_uri": "https://localhost:8080/"
        },
        "id": "f1xpomasDWjg",
        "outputId": "d3e77bc5-367a-431c-f781-44d07579ba43"
      },
      "execution_count": 12,
      "outputs": [
        {
          "output_type": "stream",
          "name": "stdout",
          "text": [
            "                                                fact\n",
            "0  Blue-eyed, white cats are often prone to deafn...\n",
            "1  Cats should not be fed tuna exclusively, as it...\n",
            "2  In just 7 years, one un-spayed female cat and ...\n",
            "3  Cats should not be fed tuna exclusively, as it...\n",
            "4  The richest cat is Blackie who was left £15 mi...\n"
          ]
        }
      ]
    },
    {
      "cell_type": "code",
      "source": [
        "from google.colab import files\n",
        "\n",
        "files.download('countries_data.csv')"
      ],
      "metadata": {
        "colab": {
          "base_uri": "https://localhost:8080/",
          "height": 297
        },
        "id": "nz0NVavkJPH1",
        "outputId": "919443c1-019c-46d4-dbb3-d8451687d72a"
      },
      "execution_count": 14,
      "outputs": [
        {
          "output_type": "error",
          "ename": "FileNotFoundError",
          "evalue": "Cannot find file: countries_data.csv",
          "traceback": [
            "\u001b[0;31m---------------------------------------------------------------------------\u001b[0m",
            "\u001b[0;31mFileNotFoundError\u001b[0m                         Traceback (most recent call last)",
            "\u001b[0;32m/tmp/ipython-input-1541962052.py\u001b[0m in \u001b[0;36m<cell line: 0>\u001b[0;34m()\u001b[0m\n\u001b[1;32m      1\u001b[0m \u001b[0;32mfrom\u001b[0m \u001b[0mgoogle\u001b[0m\u001b[0;34m.\u001b[0m\u001b[0mcolab\u001b[0m \u001b[0;32mimport\u001b[0m \u001b[0mfiles\u001b[0m\u001b[0;34m\u001b[0m\u001b[0;34m\u001b[0m\u001b[0m\n\u001b[1;32m      2\u001b[0m \u001b[0;34m\u001b[0m\u001b[0m\n\u001b[0;32m----> 3\u001b[0;31m \u001b[0mfiles\u001b[0m\u001b[0;34m.\u001b[0m\u001b[0mdownload\u001b[0m\u001b[0;34m(\u001b[0m\u001b[0;34m'countries_data.csv'\u001b[0m\u001b[0;34m)\u001b[0m\u001b[0;34m\u001b[0m\u001b[0;34m\u001b[0m\u001b[0m\n\u001b[0m",
            "\u001b[0;32m/usr/local/lib/python3.11/dist-packages/google/colab/files.py\u001b[0m in \u001b[0;36mdownload\u001b[0;34m(filename)\u001b[0m\n\u001b[1;32m    231\u001b[0m   \u001b[0;32mif\u001b[0m \u001b[0;32mnot\u001b[0m \u001b[0m_os\u001b[0m\u001b[0;34m.\u001b[0m\u001b[0mpath\u001b[0m\u001b[0;34m.\u001b[0m\u001b[0mexists\u001b[0m\u001b[0;34m(\u001b[0m\u001b[0mfilename\u001b[0m\u001b[0;34m)\u001b[0m\u001b[0;34m:\u001b[0m\u001b[0;34m\u001b[0m\u001b[0;34m\u001b[0m\u001b[0m\n\u001b[1;32m    232\u001b[0m     \u001b[0mmsg\u001b[0m \u001b[0;34m=\u001b[0m \u001b[0;34m'Cannot find file: {}'\u001b[0m\u001b[0;34m.\u001b[0m\u001b[0mformat\u001b[0m\u001b[0;34m(\u001b[0m\u001b[0mfilename\u001b[0m\u001b[0;34m)\u001b[0m\u001b[0;34m\u001b[0m\u001b[0;34m\u001b[0m\u001b[0m\n\u001b[0;32m--> 233\u001b[0;31m     \u001b[0;32mraise\u001b[0m \u001b[0mFileNotFoundError\u001b[0m\u001b[0;34m(\u001b[0m\u001b[0mmsg\u001b[0m\u001b[0;34m)\u001b[0m  \u001b[0;31m# pylint: disable=undefined-variable\u001b[0m\u001b[0;34m\u001b[0m\u001b[0;34m\u001b[0m\u001b[0m\n\u001b[0m\u001b[1;32m    234\u001b[0m \u001b[0;34m\u001b[0m\u001b[0m\n\u001b[1;32m    235\u001b[0m   \u001b[0mcomm_manager\u001b[0m \u001b[0;34m=\u001b[0m \u001b[0m_IPython\u001b[0m\u001b[0;34m.\u001b[0m\u001b[0mget_ipython\u001b[0m\u001b[0;34m(\u001b[0m\u001b[0;34m)\u001b[0m\u001b[0;34m.\u001b[0m\u001b[0mkernel\u001b[0m\u001b[0;34m.\u001b[0m\u001b[0mcomm_manager\u001b[0m\u001b[0;34m\u001b[0m\u001b[0;34m\u001b[0m\u001b[0m\n",
            "\u001b[0;31mFileNotFoundError\u001b[0m: Cannot find file: countries_data.csv"
          ]
        }
      ]
    },
    {
      "cell_type": "code",
      "source": [],
      "metadata": {
        "id": "GD9_9DkMJIx2"
      },
      "execution_count": null,
      "outputs": []
    },
    {
      "cell_type": "code",
      "metadata": {
        "colab": {
          "base_uri": "https://localhost:8080/"
        },
        "id": "4ae3d27f",
        "outputId": "4ffb71e0-a2a9-4a2a-f672-6dc2913a49e9"
      },
      "source": [
        "country_list = []\n",
        "for c in data:\n",
        "    if isinstance(c, dict):  # make sure it's a dict\n",
        "        name = c.get(\"name\", {}).get(\"common\", \"\")\n",
        "        region = c.get(\"region\", \"\")\n",
        "        pop = c.get(\"population\", 0)\n",
        "        area = c.get(\"area\", 0)\n",
        "        country_list.append([name, region, pop, area])\n",
        "    else:\n",
        "        print(f\"Unexpected item in data: {c}\")\n",
        "\n",
        "\n",
        "df1 = pd.DataFrame(country_list, columns=[\"name\", \"region\", \"population\", \"area\"])\n",
        "df1.to_csv(\"countries_data.csv\", index=False)"
      ],
      "execution_count": 15,
      "outputs": [
        {
          "output_type": "stream",
          "name": "stdout",
          "text": [
            "Unexpected item in data: fact\n",
            "Unexpected item in data: length\n"
          ]
        }
      ]
    },
    {
      "cell_type": "code",
      "source": [
        "print(df1.head())"
      ],
      "metadata": {
        "colab": {
          "base_uri": "https://localhost:8080/"
        },
        "id": "7kN0Y9nuJdUi",
        "outputId": "2b552f50-a34b-40d8-9e1f-dac2c0efcf7d"
      },
      "execution_count": 16,
      "outputs": [
        {
          "output_type": "stream",
          "name": "stdout",
          "text": [
            "Empty DataFrame\n",
            "Columns: [name, region, population, area]\n",
            "Index: []\n"
          ]
        }
      ]
    },
    {
      "cell_type": "code",
      "source": [],
      "metadata": {
        "id": "8rImjpOsJiTZ"
      },
      "execution_count": null,
      "outputs": []
    }
  ],
  "metadata": {
    "colab": {
      "provenance": [],
      "include_colab_link": true
    },
    "kernelspec": {
      "display_name": "Python 3",
      "name": "python3"
    }
  },
  "nbformat": 4,
  "nbformat_minor": 0
}