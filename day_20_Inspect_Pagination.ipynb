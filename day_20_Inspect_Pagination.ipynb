{
  "cells": [
    {
      "cell_type": "markdown",
      "metadata": {
        "id": "view-in-github",
        "colab_type": "text"
      },
      "source": [
        "<a href=\"https://colab.research.google.com/github/Amin-mo/API-Scraping/blob/main/day_20_Inspect_Pagination.ipynb\" target=\"_parent\"><img src=\"https://colab.research.google.com/assets/colab-badge.svg\" alt=\"Open In Colab\"/></a>"
      ]
    },
    {
      "cell_type": "markdown",
      "source": [
        "# day 20\n"
      ],
      "metadata": {
        "id": "c-1P0sysxUWZ"
      }
    },
    {
      "cell_type": "code",
      "source": [
        "import requests\n",
        "from bs4 import BeautifulSoup\n",
        "import pandas as pd\n",
        "\n",
        "books = []\n",
        "\n",
        "for page in range(1, 6):  # scrape first 5 pages\n",
        "    url = f\"http://books.toscrape.com/catalogue/page-{page}.html\"\n",
        "    response = requests.get(url)\n",
        "    if response.status_code != 200:\n",
        "        break  # stop if no more pages\n",
        "\n",
        "    soup = BeautifulSoup(response.text, \"html.parser\")\n",
        "\n",
        "    for book in soup.find_all(\"article\", class_=\"product_pod\"):\n",
        "        title = book.h3.a[\"title\"]\n",
        "        price = book.find(\"p\", class_=\"price_color\").text\n",
        "        availability = book.find(\"p\", class_=\"instock availability\").text.strip()\n",
        "        books.append([title, price, availability])\n",
        "\n",
        "df = pd.DataFrame(books, columns=[\"title\", \"price\", \"availability\"])\n",
        "df.to_csv(\"books_multipage.csv\", index=False)\n",
        "print(f\"Saved {len(df)} books.\")\n"
      ],
      "metadata": {
        "colab": {
          "base_uri": "https://localhost:8080/"
        },
        "id": "dh6vHtS2xWHF",
        "outputId": "8ecd3071-7a14-4c02-bdae-6dbc8fb0a423"
      },
      "execution_count": 1,
      "outputs": [
        {
          "output_type": "stream",
          "name": "stdout",
          "text": [
            "Saved 100 books.\n"
          ]
        }
      ]
    },
    {
      "cell_type": "code",
      "source": [],
      "metadata": {
        "id": "H32oo7RtxbDg"
      },
      "execution_count": null,
      "outputs": []
    }
  ],
  "metadata": {
    "colab": {
      "provenance": [],
      "include_colab_link": true
    },
    "kernelspec": {
      "display_name": "Python 3",
      "name": "python3"
    }
  },
  "nbformat": 4,
  "nbformat_minor": 0
}